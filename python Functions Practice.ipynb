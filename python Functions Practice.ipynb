{
 "cells": [
  {
   "cell_type": "markdown",
   "id": "9735efe0",
   "metadata": {},
   "source": [
    "#### Create a Function"
   ]
  },
  {
   "cell_type": "code",
   "execution_count": 3,
   "id": "7eece27c",
   "metadata": {},
   "outputs": [
    {
     "name": "stdout",
     "output_type": "stream",
     "text": [
      "hello\n",
      "how do you do\n"
     ]
    }
   ],
   "source": [
    "def greet():\n",
    "    print(\"hello\")\n",
    "    print(\"how do you do\")\n",
    "greet()"
   ]
  },
  {
   "cell_type": "markdown",
   "id": "f1799184",
   "metadata": {},
   "source": [
    "#### Python arguments"
   ]
  },
  {
   "cell_type": "code",
   "execution_count": 5,
   "id": "12f04f26",
   "metadata": {},
   "outputs": [
    {
     "name": "stdout",
     "output_type": "stream",
     "text": [
      "hello sweety\n",
      "how do you do\n"
     ]
    }
   ],
   "source": [
    "def greet(name):\n",
    "    print(\"hello\",name)\n",
    "    print(\"how do you do\")\n",
    "greet(\"sweety\")"
   ]
  },
  {
   "cell_type": "markdown",
   "id": "7cc60663",
   "metadata": {},
   "source": [
    "##### Passing Multiple Arguments"
   ]
  },
  {
   "cell_type": "code",
   "execution_count": 10,
   "id": "685815c8",
   "metadata": {},
   "outputs": [
    {
     "name": "stdout",
     "output_type": "stream",
     "text": [
      "The sum is 10.100000000000001\n"
     ]
    }
   ],
   "source": [
    "def add_numbers(n1,n2):\n",
    "    result = n1+n2\n",
    "    print(\"The sum is\",result)\n",
    "    \n",
    "number1 = 5.4\n",
    "number2 =4.7\n",
    "add_numbers(number1,number2)"
   ]
  },
  {
   "cell_type": "markdown",
   "id": "7cf01c14",
   "metadata": {},
   "source": [
    "##### Return value from a function"
   ]
  },
  {
   "cell_type": "code",
   "execution_count": 11,
   "id": "144b091a",
   "metadata": {},
   "outputs": [
    {
     "name": "stdout",
     "output_type": "stream",
     "text": [
      "The sum is 10.100000000000001\n"
     ]
    }
   ],
   "source": [
    "def add_numbers(n1,n2):\n",
    "    result = n1+n2\n",
    "    return result\n",
    "number1 = 5.4\n",
    "number2 = 4.7\n",
    "result = add_numbers(number1,number2)\n",
    "print(\"The sum is\",result)"
   ]
  },
  {
   "cell_type": "code",
   "execution_count": 14,
   "id": "c4dbbbd7",
   "metadata": {},
   "outputs": [
    {
     "name": "stdout",
     "output_type": "stream",
     "text": [
      "your average marks is 67.8\n",
      "your grade is B\n"
     ]
    }
   ],
   "source": [
    "# Calculate the average marks\n",
    "def average_marks(marks):\n",
    "    sum_marks = sum(marks)\n",
    "    total_subjects = len(marks)\n",
    "    average_marks = sum(marks)/total_subjects\n",
    "    return average_marks\n",
    "\n",
    "# Calculate the grade and return it\n",
    "def compute_grade(average_marks):\n",
    "    if average_marks >=80:\n",
    "        grade = \"A\"\n",
    "    elif average_marks >=60:\n",
    "        grade = \"B\"\n",
    "    elif average_marks >=50:\n",
    "        grade = \"C\"\n",
    "    else:\n",
    "        grade = \"D\"\n",
    "    return grade\n",
    "\n",
    "marks = [55,64,75,80,65]\n",
    "average_marks = average_marks(marks)\n",
    "print(\"your average marks is\",average_marks)\n",
    "\n",
    "grade = compute_grade(average_marks)\n",
    "print(\"your grade is\",grade)    "
   ]
  },
  {
   "cell_type": "code",
   "execution_count": 15,
   "id": "f5073150",
   "metadata": {},
   "outputs": [
    {
     "name": "stdout",
     "output_type": "stream",
     "text": [
      "Sum is 35\n",
      "Product is 150\n"
     ]
    }
   ],
   "source": [
    "# function to add two numbers\n",
    "def add_numbers(num1, num2):\n",
    "    return num1 + num2\n",
    "\n",
    "# function to multiply two numbers\n",
    "def multiply_numbers(num1, num2):\n",
    "    return num1 * num2\n",
    "\n",
    "number1 = 5\n",
    "number2 = 30\n",
    "\n",
    "sum_result = add_numbers(number1, number2)\n",
    "print(\"Sum is\", sum_result)\n",
    "\n",
    "product_result = multiply_numbers(number1, number2)\n",
    "print(\"Product is\", product_result)"
   ]
  },
  {
   "cell_type": "code",
   "execution_count": 6,
   "id": "ef4e06d6",
   "metadata": {},
   "outputs": [
    {
     "name": "stdout",
     "output_type": "stream",
     "text": [
      "Hi Nagireddy mythili\n",
      "welcome to abroad\n",
      "Hi Tathekalava Thejith\n",
      "welcome to abroad\n"
     ]
    }
   ],
   "source": [
    "def greet(first_name, last_name):\n",
    "    print(f\"Hi {first_name} {last_name}\")\n",
    "    print(\"welcome to abroad\")\n",
    "    \n",
    "greet(\"Nagireddy\" ,\"mythili\")\n",
    "greet(\"Tathekalava\",\"Thejith\")\n",
    "greet(\"Tathekalava\")"
   ]
  },
  {
   "cell_type": "code",
   "execution_count": 9,
   "id": "1c37b7dd",
   "metadata": {},
   "outputs": [
    {
     "name": "stdout",
     "output_type": "stream",
     "text": [
      "3 6\n",
      "None\n"
     ]
    }
   ],
   "source": [
    "def increment(number,by=1):\n",
    "    print(number+by)\n",
    "print(increment(2))"
   ]
  },
  {
   "cell_type": "code",
   "execution_count": 11,
   "id": "a5f224eb",
   "metadata": {},
   "outputs": [
    {
     "name": "stdout",
     "output_type": "stream",
     "text": [
      "4 6\n",
      "None\n"
     ]
    }
   ],
   "source": [
    "def increment(number,another,by=2):\n",
    "    print(number+by,another-by)\n",
    "print(increment(2,8))"
   ]
  },
  {
   "cell_type": "code",
   "execution_count": 27,
   "id": "c15fa68f",
   "metadata": {},
   "outputs": [
    {
     "name": "stdout",
     "output_type": "stream",
     "text": [
      "120\n"
     ]
    }
   ],
   "source": [
    "def multiply(*numbers):\n",
    "    total=1\n",
    "    for number in numbers:\n",
    "        total *=number\n",
    "    return total\n",
    "print(multiply(2,3,4,5))\n",
    "        \n",
    "    "
   ]
  },
  {
   "cell_type": "code",
   "execution_count": 32,
   "id": "fa4d8103",
   "metadata": {},
   "outputs": [
    {
     "name": "stdout",
     "output_type": "stream",
     "text": [
      "{'id': 1, 'name': 'mythili', 'age': 24}\n",
      "{'id': 2, 'name': 'Deekshitha', 'age': 26}\n"
     ]
    }
   ],
   "source": [
    "# In functions we use(**),this converts as dictionary automatically\n",
    "def save_user(**user):\n",
    "    print(user)\n",
    "save_user(id=1,name=\"mythili\",age=24)\n",
    "save_user(id=2,name=\"Deekshitha\",age=26)"
   ]
  },
  {
   "cell_type": "code",
   "execution_count": 40,
   "id": "87432dd6",
   "metadata": {},
   "outputs": [
    {
     "data": {
      "text/plain": [
       "'buzz'"
      ]
     },
     "execution_count": 40,
     "metadata": {},
     "output_type": "execute_result"
    }
   ],
   "source": [
    "def fizz_buzz(input):\n",
    "    if input % 3==0:\n",
    "        return \"fizz\"\n",
    "    else:\n",
    "        return \"buzz\"\n",
    "fizz_buzz(5)"
   ]
  },
  {
   "cell_type": "code",
   "execution_count": 44,
   "id": "d7e769eb",
   "metadata": {},
   "outputs": [
    {
     "name": "stdout",
     "output_type": "stream",
     "text": [
      "7\n"
     ]
    }
   ],
   "source": [
    "def fizz_buzz(input):\n",
    "    if input % 3==0:\n",
    "        return \"fizz\"\n",
    "    if input % 5==0:\n",
    "        return \"buzz\"\n",
    "    if input % 3==0 and input % 5==0:\n",
    "        return \"fizzbuzz\"\n",
    "    return input\n",
    "\n",
    "print(fizz_buzz(7))"
   ]
  },
  {
   "cell_type": "code",
   "execution_count": 58,
   "id": "1dbd60ff",
   "metadata": {},
   "outputs": [
    {
     "name": "stdout",
     "output_type": "stream",
     "text": [
      "6\n",
      "7\n"
     ]
    }
   ],
   "source": [
    "def max_of_two(x,y):\n",
    "    if x>y:\n",
    "        return x\n",
    "    return y\n",
    "def max_of_three(x,y,z):\n",
    "    if x>y and x>z:\n",
    "        return x\n",
    "    elif y>x and y>z:\n",
    "        return y\n",
    "    else:\n",
    "        return z\n",
    "    \n",
    "print(max_of_two(5,6))\n",
    "print(max_of_three(7,3,5))"
   ]
  },
  {
   "cell_type": "code",
   "execution_count": 69,
   "id": "8a98b6d0",
   "metadata": {},
   "outputs": [
    {
     "name": "stdout",
     "output_type": "stream",
     "text": [
      "20\n"
     ]
    }
   ],
   "source": [
    "def sum(numbers):\n",
    "    total=0\n",
    "    for x in numbers:\n",
    "        total+=x\n",
    "    return total\n",
    "print(sum((8,2,3,0,7)))"
   ]
  },
  {
   "cell_type": "code",
   "execution_count": 72,
   "id": "ba35ebd4",
   "metadata": {},
   "outputs": [
    {
     "name": "stdout",
     "output_type": "stream",
     "text": [
      "-336\n"
     ]
    }
   ],
   "source": [
    "def multiply(numbers):\n",
    "    total=1\n",
    "    for x in numbers:\n",
    "        total*=x\n",
    "    return total\n",
    "print(multiply((8, 2, 3, -1, 7)))"
   ]
  },
  {
   "cell_type": "code",
   "execution_count": 74,
   "id": "0c0f411c",
   "metadata": {},
   "outputs": [
    {
     "name": "stdout",
     "output_type": "stream",
     "text": [
      "dcba4321\n"
     ]
    }
   ],
   "source": [
    "def string_reverse(str1):\n",
    "    rstr1=''\n",
    "    index = len(str1)\n",
    "    while index>0:\n",
    "        rstr1 += str1[index -1]\n",
    "        index = index-1\n",
    "    return rstr1\n",
    "print(string_reverse(\"1234abcd\"))"
   ]
  },
  {
   "cell_type": "code",
   "execution_count": 75,
   "id": "b80c05e9",
   "metadata": {},
   "outputs": [
    {
     "name": "stdout",
     "output_type": "stream",
     "text": [
      "enter a number to compute factorial 5\n",
      "120\n"
     ]
    }
   ],
   "source": [
    "num = int(input(\"enter a number to compute factorial \"))\n",
    "def factorial(num):\n",
    "    if num==0:\n",
    "        return 1\n",
    "    else:\n",
    "        return num * factorial(num-1)\n",
    "print(factorial(num))"
   ]
  },
  {
   "cell_type": "code",
   "execution_count": 81,
   "id": "cf34e8be",
   "metadata": {},
   "outputs": [
    {
     "name": "stdout",
     "output_type": "stream",
     "text": [
      " 7 is in the range\n"
     ]
    }
   ],
   "source": [
    "def test_range(n):\n",
    "    if n in range(5,9):\n",
    "        print(\" %s is in the range\"%str(n))\n",
    "    else:\n",
    "        print(\"the number is outside the range\")\n",
    "test_range(7)"
   ]
  },
  {
   "cell_type": "code",
   "execution_count": 87,
   "id": "c79d3212",
   "metadata": {},
   "outputs": [
    {
     "name": "stdout",
     "output_type": "stream",
     "text": [
      "original string The Quick Brown Box\n",
      "no of capital letters 1\n",
      "no of small letters 0\n",
      "original string The Quick Brown Box\n",
      "no of capital letters 1\n",
      "no of small letters 1\n",
      "original string The Quick Brown Box\n",
      "no of capital letters 1\n",
      "no of small letters 2\n",
      "original string The Quick Brown Box\n",
      "no of capital letters 1\n",
      "no of small letters 2\n",
      "original string The Quick Brown Box\n",
      "no of capital letters 2\n",
      "no of small letters 2\n",
      "original string The Quick Brown Box\n",
      "no of capital letters 2\n",
      "no of small letters 3\n",
      "original string The Quick Brown Box\n",
      "no of capital letters 2\n",
      "no of small letters 4\n",
      "original string The Quick Brown Box\n",
      "no of capital letters 2\n",
      "no of small letters 5\n",
      "original string The Quick Brown Box\n",
      "no of capital letters 2\n",
      "no of small letters 6\n",
      "original string The Quick Brown Box\n",
      "no of capital letters 2\n",
      "no of small letters 6\n",
      "original string The Quick Brown Box\n",
      "no of capital letters 3\n",
      "no of small letters 6\n",
      "original string The Quick Brown Box\n",
      "no of capital letters 3\n",
      "no of small letters 7\n",
      "original string The Quick Brown Box\n",
      "no of capital letters 3\n",
      "no of small letters 8\n",
      "original string The Quick Brown Box\n",
      "no of capital letters 3\n",
      "no of small letters 9\n",
      "original string The Quick Brown Box\n",
      "no of capital letters 3\n",
      "no of small letters 10\n",
      "original string The Quick Brown Box\n",
      "no of capital letters 3\n",
      "no of small letters 10\n",
      "original string The Quick Brown Box\n",
      "no of capital letters 4\n",
      "no of small letters 10\n",
      "original string The Quick Brown Box\n",
      "no of capital letters 4\n",
      "no of small letters 11\n",
      "original string The Quick Brown Box\n",
      "no of capital letters 4\n",
      "no of small letters 12\n"
     ]
    }
   ],
   "source": [
    "def string_test(s):\n",
    "    d={'UPPER_CASE':0,'LOWER_CASE':0}\n",
    "    for c in s:\n",
    "        if c.isupper():\n",
    "            d[\"UPPER_CASE\"]+=1\n",
    "        elif c.islower():\n",
    "            d[\"LOWER_CASE\"]+=1\n",
    "        else:\n",
    "            pass\n",
    "        print(\"original string\",s)\n",
    "        print(\"no of capital letters\",d[\"UPPER_CASE\"])\n",
    "        print(\"no of small letters\",d[\"LOWER_CASE\"])\n",
    "        \n",
    "string_test('The Quick Brown Box')"
   ]
  },
  {
   "cell_type": "code",
   "execution_count": 94,
   "id": "93ab5103",
   "metadata": {},
   "outputs": [
    {
     "name": "stdout",
     "output_type": "stream",
     "text": [
      "[2, 3, 5, 4]\n"
     ]
    }
   ],
   "source": [
    "def unique_list(l):\n",
    "    x=[]\n",
    "    for a in l:\n",
    "        if a not in x:\n",
    "            x.append(a)\n",
    "    return x\n",
    "print(unique_list([2,2,3,3,5,5,4,4]))"
   ]
  },
  {
   "cell_type": "code",
   "execution_count": 105,
   "id": "efe46f41",
   "metadata": {},
   "outputs": [
    {
     "data": {
      "text/plain": [
       "'True'"
      ]
     },
     "execution_count": 105,
     "metadata": {},
     "output_type": "execute_result"
    }
   ],
   "source": [
    "def test_prime(p):\n",
    "    if p==1:\n",
    "        return \"False\"\n",
    "    elif p==2:\n",
    "        return \"True\"\n",
    "    else:\n",
    "        for x in range(2,p):\n",
    "            if (p% x==0):\n",
    "                return \"False\"\n",
    "        return \"True\"\n",
    "            \n",
    "test_prime(7)\n"
   ]
  },
  {
   "cell_type": "code",
   "execution_count": 108,
   "id": "21c4cb4b",
   "metadata": {},
   "outputs": [
    {
     "name": "stdout",
     "output_type": "stream",
     "text": [
      "even number 2\n",
      "even number 4\n",
      "even number 6\n",
      "even number 8\n"
     ]
    }
   ],
   "source": [
    "def even(numbers):\n",
    "    for x in numbers:\n",
    "        if x% 2==0:\n",
    "            print(\"even number\",x)\n",
    "even([1, 2, 3, 4, 5, 6, 7, 8, 9])"
   ]
  },
  {
   "cell_type": "code",
   "execution_count": null,
   "id": "0df95138",
   "metadata": {},
   "outputs": [],
   "source": []
  }
 ],
 "metadata": {
  "kernelspec": {
   "display_name": "Python 3 (ipykernel)",
   "language": "python",
   "name": "python3"
  },
  "language_info": {
   "codemirror_mode": {
    "name": "ipython",
    "version": 3
   },
   "file_extension": ".py",
   "mimetype": "text/x-python",
   "name": "python",
   "nbconvert_exporter": "python",
   "pygments_lexer": "ipython3",
   "version": "3.9.7"
  }
 },
 "nbformat": 4,
 "nbformat_minor": 5
}
