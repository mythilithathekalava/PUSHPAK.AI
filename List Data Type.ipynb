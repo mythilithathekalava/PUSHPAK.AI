{
 "cells": [
  {
   "attachments": {},
   "cell_type": "markdown",
   "id": "127509ca",
   "metadata": {},
   "source": [
    "### List Data Type:\n",
    "    what is List in python:\n",
    "       Lists are used to store multiple items in a single variable. Lists are one of 4 built-in data types in Python used to store collections of data, the other 3 are Tuple, Set, and Dictionary, all with different qualities and usage.A list is an ordered data structure with elements separated by a comma and enclosed within square brackets.\n",
    "       Lists are ordered,mutable or changeble,indexed,allow duplicates and heterogenous(it can contain data of different data types).\n",
    "       \n",
    "       Methods in list:\n",
    "       append():Adds an element at the end of the list.\n",
    "       clear():Removes all the elements from the list.\n",
    "       copy():Returns a copy of the list.\n",
    "       count():Returns the number of elements with the specified value.\n",
    "       extend():Add the elements of a list(or any iterable),to the end of the current list.\n",
    "       index():Returns the index of the elements.\n",
    "       insert(position,element):Adds an element at the specified position.\n",
    "       pop():Removes the element at the specified position.\n",
    "       remove():Removes the item with the specified value.\n",
    "       reverse():Reverse the order of the list.\n",
    "       sort():Sorts the list."
   ]
  },
  {
   "cell_type": "code",
   "execution_count": 1,
   "id": "156f3323",
   "metadata": {},
   "outputs": [
    {
     "data": {
      "text/plain": [
       "list"
      ]
     },
     "execution_count": 1,
     "metadata": {},
     "output_type": "execute_result"
    }
   ],
   "source": [
    "# Creating an list\n",
    "a = []\n",
    "type(a)"
   ]
  },
  {
   "cell_type": "code",
   "execution_count": 10,
   "id": "ce34ca81",
   "metadata": {},
   "outputs": [
    {
     "name": "stdout",
     "output_type": "stream",
     "text": [
      "['love', 4, 2.5, True, 6]\n"
     ]
    }
   ],
   "source": [
    "# append methods add the element at the end of the list\n",
    "a = [\"love\",4,2.5]\n",
    "a.append(True)\n",
    "a.append(6)\n",
    "print(a)"
   ]
  },
  {
   "cell_type": "code",
   "execution_count": 5,
   "id": "680fba52",
   "metadata": {},
   "outputs": [
    {
     "name": "stdout",
     "output_type": "stream",
     "text": [
      "['sweety', 5, 6.0, False, 4, 6, 'theju']\n"
     ]
    }
   ],
   "source": [
    "# Extend methods adds the elements of a list,to the end of the current list.\n",
    "b = [\"sweety\",5,6.0,False]\n",
    "b.extend([4,6,\"theju\"])\n",
    "print(b)"
   ]
  },
  {
   "cell_type": "code",
   "execution_count": 13,
   "id": "8d994eca",
   "metadata": {},
   "outputs": [
    {
     "name": "stdout",
     "output_type": "stream",
     "text": [
      "length of the list : 7\n"
     ]
    }
   ],
   "source": [
    "# Finding length of the list\n",
    "c = ['sweety', 5, 6.0, False, 4, 6, 'theju']\n",
    "print(\"length of the list :\",len(c))"
   ]
  },
  {
   "cell_type": "code",
   "execution_count": 23,
   "id": "666992e7",
   "metadata": {},
   "outputs": [
    {
     "name": "stdout",
     "output_type": "stream",
     "text": [
      "sweety\n",
      "sweety theju\n",
      "['sweety', 5, 6.0, False]\n",
      "['sweety', 5, 6.0, False, 4, 6, 'theju']\n",
      "['theju', 6, 4, False, 6.0, 5, 'sweety']\n"
     ]
    }
   ],
   "source": [
    "# Index method returns the index of the elements\n",
    "d = ['sweety', 5, 6.0, False, 4, 6, 'theju']\n",
    "print(d[0])\n",
    "print(d[0],d[-1])\n",
    "print(d[0:4])\n",
    "print(d[:])\n",
    "print(d[::-1])"
   ]
  },
  {
   "cell_type": "code",
   "execution_count": 25,
   "id": "25cf3092",
   "metadata": {},
   "outputs": [
    {
     "name": "stdout",
     "output_type": "stream",
     "text": [
      "['sweety', 5, 6.0, False, 4, 10, 6, 'theju']\n"
     ]
    }
   ],
   "source": [
    "# Insert method adds the element at the specified position\n",
    "e = ['sweety', 5, 6.0, False, 4, 6, 'theju']\n",
    "e.insert(5,10)            # (position,element)\n",
    "print(e)"
   ]
  },
  {
   "cell_type": "code",
   "execution_count": 29,
   "id": "75e4b8fa",
   "metadata": {},
   "outputs": [
    {
     "name": "stdout",
     "output_type": "stream",
     "text": [
      "2\n"
     ]
    }
   ],
   "source": [
    "# Count method Returns the number of elements with the specified value.\n",
    "f = ['sweety', 5, 6.0, False, 4, 6, 'theju']\n",
    "x = d.count(6)\n",
    "print(x)"
   ]
  },
  {
   "cell_type": "code",
   "execution_count": 30,
   "id": "b9c87599",
   "metadata": {},
   "outputs": [
    {
     "name": "stdout",
     "output_type": "stream",
     "text": [
      "['sweety', 5, 6.0, False, 4, 6, 'theju']\n"
     ]
    }
   ],
   "source": [
    "# copy method Returns a copy of the list.\n",
    "g = ['sweety', 5, 6.0, False, 4, 6, 'theju']\n",
    "x = g.copy()\n",
    "print(x)"
   ]
  },
  {
   "cell_type": "code",
   "execution_count": 31,
   "id": "e618cc65",
   "metadata": {},
   "outputs": [
    {
     "name": "stdout",
     "output_type": "stream",
     "text": [
      "['sweety', 5, False, 4, 6, 'theju']\n"
     ]
    }
   ],
   "source": [
    "# Remove method Removes the item with the specified value.\n",
    "h = ['sweety', 5, 6.0, False, 4, 6, 'theju']\n",
    "h.remove(6)\n",
    "print(h)"
   ]
  },
  {
   "cell_type": "code",
   "execution_count": 32,
   "id": "53d8ad33",
   "metadata": {},
   "outputs": [
    {
     "name": "stdout",
     "output_type": "stream",
     "text": [
      "['sweety', 5, False, 4, 6, 'theju']\n"
     ]
    }
   ],
   "source": [
    "# pop method Removes the element at the specified position.\n",
    "i = ['sweety', 5, 6.0, False, 4, 6, 'theju']\n",
    "i.pop(2)\n",
    "print(i)"
   ]
  },
  {
   "cell_type": "code",
   "execution_count": 33,
   "id": "7d1af7ed",
   "metadata": {},
   "outputs": [
    {
     "name": "stdout",
     "output_type": "stream",
     "text": [
      "['theju', 6, 4, False, 6.0, 5, 'sweety']\n"
     ]
    }
   ],
   "source": [
    "# Reverse method Reverse the order of the list.\n",
    "j = ['sweety', 5, 6.0, False, 4, 6, 'theju']\n",
    "j.reverse()\n",
    "print(j)"
   ]
  },
  {
   "cell_type": "code",
   "execution_count": 36,
   "id": "49375f10",
   "metadata": {},
   "outputs": [
    {
     "name": "stdout",
     "output_type": "stream",
     "text": [
      "['Deekshu', 'pandu', 'sweety', 'theju']\n",
      "[1, 2, 3, 4, 5, 8, 9]\n"
     ]
    }
   ],
   "source": [
    "# Sort method sorts the list\n",
    "K =['sweety','pandu','Deekshu','theju']\n",
    "L =[2,1,5,4,3,9,8]\n",
    "K.sort()\n",
    "L.sort()\n",
    "print(h)\n",
    "print(L)"
   ]
  },
  {
   "cell_type": "code",
   "execution_count": 40,
   "id": "564000c4",
   "metadata": {},
   "outputs": [
    {
     "name": "stdout",
     "output_type": "stream",
     "text": [
      "<class 'tuple'>\n",
      "<class 'list'>\n"
     ]
    }
   ],
   "source": [
    "# Using the list() constructor to make a List:\n",
    "#converting tuple to list\n",
    "s = (\"apple\",\"banana\",\"cherry\")\n",
    "lst = list((\"apple\", \"banana\", \"cherry\")) # note the double round-brackets\n",
    "print(type(s))\n",
    "print(type(lst))"
   ]
  },
  {
   "cell_type": "code",
   "execution_count": 37,
   "id": "e7c32f5e",
   "metadata": {},
   "outputs": [
    {
     "name": "stdout",
     "output_type": "stream",
     "text": [
      "[]\n"
     ]
    }
   ],
   "source": [
    "# Clear method Removes all the elements from the list.\n",
    "M = ['sweety', 5, 6.0, False, 4, 6, 'theju']\n",
    "M.clear()\n",
    "print(M)"
   ]
  }
 ],
 "metadata": {
  "kernelspec": {
   "display_name": "Python 3 (ipykernel)",
   "language": "python",
   "name": "python3"
  },
  "language_info": {
   "codemirror_mode": {
    "name": "ipython",
    "version": 3
   },
   "file_extension": ".py",
   "mimetype": "text/x-python",
   "name": "python",
   "nbconvert_exporter": "python",
   "pygments_lexer": "ipython3",
   "version": "3.9.13"
  }
 },
 "nbformat": 4,
 "nbformat_minor": 5
}
