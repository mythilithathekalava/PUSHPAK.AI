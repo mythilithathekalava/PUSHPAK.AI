{
 "cells": [
  {
   "cell_type": "markdown",
   "id": "a9d8c584",
   "metadata": {},
   "source": [
    "### String Formatting in Python:\n",
    "   String Formatting provides a more powerful way to embed non-string with strings.\n",
    "   There are three ways to perform string formatting.\n",
    "   1. using modulo % character\n",
    "   2. using .format() method\n",
    "   3. using f-string literals"
   ]
  },
  {
   "cell_type": "markdown",
   "id": "5be6396c",
   "metadata": {},
   "source": [
    "####  String Formating with Placeholders(means modulo operator)"
   ]
  },
  {
   "cell_type": "code",
   "execution_count": 20,
   "id": "173adedc",
   "metadata": {},
   "outputs": [
    {
     "name": "stdout",
     "output_type": "stream",
     "text": [
      "food lover\n"
     ]
    }
   ],
   "source": [
    "print(\"%s %s\" %(\"food\",\"lover\"))"
   ]
  },
  {
   "cell_type": "code",
   "execution_count": 24,
   "id": "f8d77c9d",
   "metadata": {},
   "outputs": [
    {
     "name": "stdout",
     "output_type": "stream",
     "text": [
      "I love biriyany but price is  300.00\n"
     ]
    }
   ],
   "source": [
    "print(\"%s %.2f\" %(\"I love biriyany but price is \",300))    # %f stands for  float values "
   ]
  },
  {
   "cell_type": "code",
   "execution_count": 25,
   "id": "5b270aa7",
   "metadata": {},
   "outputs": [
    {
     "name": "stdout",
     "output_type": "stream",
     "text": [
      "i have 2 kids and their names is pandu sweety\n"
     ]
    }
   ],
   "source": [
    "print(\"i have %d kids and their names is %s %s\" %(2,\"pandu\",\"sweety\"))    # %d stands for int value"
   ]
  },
  {
   "cell_type": "code",
   "execution_count": 3,
   "id": "684d1deb",
   "metadata": {},
   "outputs": [
    {
     "name": "stdout",
     "output_type": "stream",
     "text": [
      "enter your namekrishna\n",
      "my name is krishna \n"
     ]
    }
   ],
   "source": [
    "x = input(\"enter your name\")\n",
    "print(\"my name is %s \" %x)      # %s indicates String"
   ]
  },
  {
   "cell_type": "code",
   "execution_count": 5,
   "id": "6ac58900",
   "metadata": {},
   "outputs": [
    {
     "name": "stdout",
     "output_type": "stream",
     "text": [
      "enter your namemythili\n",
      "my name is 'mythili' \n"
     ]
    }
   ],
   "source": [
    "x = input(\"enter your name\")\n",
    "print(\"my name is %r \" %x)         # %r shows string in quotes"
   ]
  },
  {
   "cell_type": "code",
   "execution_count": 7,
   "id": "72533573",
   "metadata": {},
   "outputs": [
    {
     "name": "stdout",
     "output_type": "stream",
     "text": [
      "welcome to my world\n"
     ]
    }
   ],
   "source": [
    "x , y = \"my\",\"world\"\n",
    "print(\"welcome to %s %s\" %(x,y))"
   ]
  },
  {
   "cell_type": "code",
   "execution_count": 8,
   "id": "6ef9c994",
   "metadata": {},
   "outputs": [
    {
     "name": "stdout",
     "output_type": "stream",
     "text": [
      "welcome to my 'world'\n"
     ]
    }
   ],
   "source": [
    "x , y = \"my\",\"world\"\n",
    "print(\"welcome to %s %r\" %(x,y))"
   ]
  },
  {
   "cell_type": "markdown",
   "id": "85337083",
   "metadata": {},
   "source": [
    "#### Formatting with .format() method"
   ]
  },
  {
   "cell_type": "code",
   "execution_count": 10,
   "id": "06902f8f",
   "metadata": {},
   "outputs": [
    {
     "name": "stdout",
     "output_type": "stream",
     "text": [
      "my name is mythili my age is 25\n"
     ]
    }
   ],
   "source": [
    "print(\"my name is {} my age is {}\".format(\"mythili\",25))"
   ]
  },
  {
   "cell_type": "code",
   "execution_count": 14,
   "id": "7ebd3cd5",
   "metadata": {},
   "outputs": [
    {
     "name": "stdout",
     "output_type": "stream",
     "text": [
      " i have 2 kids and their names is pandu and sweety\n"
     ]
    }
   ],
   "source": [
    "print(\" i have {1} kids and their names is {0} and {2}\".format(\"pandu\",2,\"sweety\")) # formatting with index"
   ]
  },
  {
   "cell_type": "markdown",
   "id": "dcb1c27f",
   "metadata": {},
   "source": [
    "#### Formatting with f-strings "
   ]
  },
  {
   "cell_type": "code",
   "execution_count": 17,
   "id": "be938702",
   "metadata": {},
   "outputs": [
    {
     "name": "stdout",
     "output_type": "stream",
     "text": [
      "i love my country\n"
     ]
    }
   ],
   "source": [
    "name = \"country\"\n",
    "print(f\"i love my {name}\")"
   ]
  },
  {
   "cell_type": "code",
   "execution_count": 18,
   "id": "b9a74014",
   "metadata": {},
   "outputs": [
    {
     "name": "stdout",
     "output_type": "stream",
     "text": [
      "my son age is 9\n"
     ]
    }
   ],
   "source": [
    "age = 9\n",
    "print(f\"my son age is {age}\")"
   ]
  },
  {
   "cell_type": "code",
   "execution_count": null,
   "id": "db21ba85",
   "metadata": {},
   "outputs": [],
   "source": []
  }
 ],
 "metadata": {
  "kernelspec": {
   "display_name": "Python 3 (ipykernel)",
   "language": "python",
   "name": "python3"
  },
  "language_info": {
   "codemirror_mode": {
    "name": "ipython",
    "version": 3
   },
   "file_extension": ".py",
   "mimetype": "text/x-python",
   "name": "python",
   "nbconvert_exporter": "python",
   "pygments_lexer": "ipython3",
   "version": "3.9.13"
  }
 },
 "nbformat": 4,
 "nbformat_minor": 5
}
