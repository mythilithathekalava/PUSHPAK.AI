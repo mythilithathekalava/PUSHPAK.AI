{
 "cells": [
  {
   "cell_type": "code",
   "execution_count": 5,
   "id": "c3fb2a75",
   "metadata": {},
   "outputs": [
    {
     "name": "stdout",
     "output_type": "stream",
     "text": [
      "2 pushed to stack\n",
      "3 pushed to stack\n",
      "5 pushed to stack\n",
      "1 pushed to stack\n",
      "7 pushed to stack\n",
      "9 pushed to stack\n",
      "9 pop the stack\n",
      "7 pop the stack\n",
      "size of stack <bound method stack.stacksize of <__main__.stack object at 0x000002BC00F890A0>>\n"
     ]
    }
   ],
   "source": [
    "# Stack \n",
    "class stack(object):\n",
    " # Constructor\n",
    "     def __init__(self):\n",
    "        self.stack=[]\n",
    "        self.numofitems=0\n",
    "  # Checking empty\n",
    "     def isempty(self):\n",
    "        return self.stack==[]\n",
    "  # pushing element\n",
    "     def push(self,data):\n",
    "        self.stack.insert(self.numofitems,data)\n",
    "        self.numofitems+=1    # Increment index\n",
    "        return '{} pushed to stack'.format(data)\n",
    "  # deleting the element\n",
    "     def pop(self):\n",
    "        self.numofitems-=1\n",
    "        data=self.stack.pop(self.numofitems)\n",
    "        return '{} pop the stack'.format(data)\n",
    "     def stacksize(self):\n",
    "        return len(self.stack)\n",
    "        \n",
    "        \n",
    "# testing \n",
    "if __name__=='__main__':\n",
    "        s=stack()\n",
    "        print(s.push(2))\n",
    "        print(s.push(3))\n",
    "        print(s.push(5))\n",
    "        print(s.push(1))\n",
    "        print(s.push(7))\n",
    "        print(s.push(9))\n",
    "        print(s.pop())\n",
    "        print(s.pop())\n",
    "        print('size of stack',s.stacksize)"
   ]
  },
  {
   "cell_type": "code",
   "execution_count": 34,
   "id": "67149a08",
   "metadata": {},
   "outputs": [
    {
     "name": "stdout",
     "output_type": "stream",
     "text": [
      "1 added to queue\n",
      "3 added to queue\n",
      "5 added to queue\n",
      "7 added to queue\n",
      "1\n",
      "3\n",
      "size of queue <bound method Queue.sizequeue of <__main__.Queue object at 0x000001503119FF40>>\n",
      "False\n"
     ]
    }
   ],
   "source": [
    "# Queue\n",
    "class Queue(object):\n",
    "    def __init__(self):\n",
    "        self.queue=[]\n",
    "    def isEmpty(self):\n",
    "        return self.queue==[]\n",
    "    def enqueue(self,data):\n",
    "        self.queue.insert(0,data)\n",
    "        return '{} added to queue'.format(data)\n",
    "    def dequeue(self):\n",
    "        return self.queue.pop()\n",
    "        \n",
    "    def sizequeue(self):\n",
    "        return '{} size of queue'.format(len(self.queue))\n",
    "    \n",
    "if __name__=='__main__':\n",
    "    q=Queue()\n",
    "    print(q.enqueue(1))\n",
    "    print(q.enqueue(3))\n",
    "    print(q.enqueue(5))\n",
    "    print(q.enqueue(7))\n",
    "    print(q.dequeue())\n",
    "    print(q.dequeue())\n",
    "    print('size of queue',q.sizequeue)\n",
    "    print(q.isEmpty())\n",
    "    "
   ]
  },
  {
   "cell_type": "code",
   "execution_count": 18,
   "id": "eb5d71cc",
   "metadata": {},
   "outputs": [
    {
     "name": "stdout",
     "output_type": "stream",
     "text": [
      "size3\n",
      "size2\n"
     ]
    }
   ],
   "source": [
    "# Linked List\n",
    "class Node(object):\n",
    "    def __init__(self,d,n=None):\n",
    "        self.data=d\n",
    "        self.next_node=n\n",
    "    def get_next(self):\n",
    "        return self.next_node\n",
    "    def set_next(self,n):\n",
    "        self.next_node=n\n",
    "    def get_data(self):\n",
    "        return self.data\n",
    "    def set_data(self,d):\n",
    "        self.data=d\n",
    "\n",
    "class linkedlist (object):\n",
    "    def __init__(self,r=None):\n",
    "        self.root=r\n",
    "        self.size=0\n",
    "        \n",
    "    def get_size (self):\n",
    "        return self.size\n",
    "    \n",
    "    def add (self,d):\n",
    "        new_node=Node(d,self.root)\n",
    "        self.root=new_node\n",
    "        self.size+=1\n",
    "        \n",
    "    def remove (self,d):\n",
    "        this_node=self.root\n",
    "        prev_node=None\n",
    "        \n",
    "        while this_node:\n",
    "            if this_node.get_data()==d:\n",
    "                if prev_node:\n",
    "                    prev_node.set_next(this_node.get_next())\n",
    "                else:\n",
    "                    self.root = this_node.get_next()\n",
    "                    self.size -= 1\n",
    "                return True  # Data removed\n",
    "            else:\n",
    "                prev_node=this_node\n",
    "                this_node=this_node.get_next()\n",
    "        return False  # Data not found\n",
    "\n",
    "obj=linkedlist()\n",
    "obj.add(4)\n",
    "obj.add(5)\n",
    "obj.add(7)\n",
    "print(\"size\"+str(obj.get_size()))\n",
    "obj.remove(7)\n",
    "print(\"size\"+str(obj.get_size()))"
   ]
  },
  {
   "cell_type": "code",
   "execution_count": null,
   "id": "33c0a4de",
   "metadata": {},
   "outputs": [],
   "source": []
  }
 ],
 "metadata": {
  "kernelspec": {
   "display_name": "Python 3 (ipykernel)",
   "language": "python",
   "name": "python3"
  },
  "language_info": {
   "codemirror_mode": {
    "name": "ipython",
    "version": 3
   },
   "file_extension": ".py",
   "mimetype": "text/x-python",
   "name": "python",
   "nbconvert_exporter": "python",
   "pygments_lexer": "ipython3",
   "version": "3.9.7"
  }
 },
 "nbformat": 4,
 "nbformat_minor": 5
}
