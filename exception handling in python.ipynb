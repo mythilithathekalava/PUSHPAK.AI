{
 "cells": [
  {
   "cell_type": "markdown",
   "id": "2a98bcf5",
   "metadata": {},
   "source": [
    "## Excecption handling in python\n",
    "\n",
    "#### What is Exception:\n",
    "    An unwanted and unexpected event that disturbes normal flow of program is called Exception.\n",
    "#### What is Exception Handling:\n",
    "    Exception Handling does not mean repairing an exception.we have to define the alternative way to continue rest of the program manually.\n",
    "#### What is main objective of Exception Handling:\n",
    "    The main objective of exception handling is graceful termination/normal termination of the application(i.e, we should not block our sources and we should not miss anything.\n",
    "#### Why we use Exception Handling:\n",
    "     we make good code in our program but sometimes we don't know how unexpectedly come errors in our application.if we want to find that errors this exception handling is helpful.\n",
    "####  try block:\n",
    "     try block is used to catch the exceptions.\n",
    "     example:\n",
    "     try:\n",
    "        write some code here\n",
    "####  except block:\n",
    "     except block is used to handle the exception.\n",
    "     example:\n",
    "     except [Exception]:\n",
    "         If there is exception,then execute this block\n",
    "####  finally block:\n",
    "     This finally block doesnt get any error.whether an exception is raised or not.\n",
    "     example:\n",
    "     finally:\n",
    "        print(\"hello world\")\n"
   ]
  },
  {
   "cell_type": "markdown",
   "id": "73140138",
   "metadata": {},
   "source": [
    "## Question:\n",
    "        Take the inputs from the user and divide that numbers."
   ]
  },
  {
   "cell_type": "code",
   "execution_count": 3,
   "id": "b02b1507",
   "metadata": {},
   "outputs": [
    {
     "name": "stdout",
     "output_type": "stream",
     "text": [
      "enter first number:5\n",
      "enter second number0\n",
      "integer division or modulo by zero\n"
     ]
    }
   ],
   "source": [
    "# In this below code two possible errors are there one is zerodivisionerror\n",
    "# Another one valueerror\n",
    "x = int(input(\"enter first number:\"))            # Taking input from the user \n",
    "y = int(input(\"enter second number\"))            # Taking input from the user\n",
    "try:                                             # using try block\n",
    "    if x//y:                                     # here dividing the two inputs\n",
    "        print(x)                                 # ptinting x value\n",
    "except ZeroDivisionError as f:                   # using except block for handle the exception\n",
    "    print(f)                                     # printing that exception\n",
    "except ValueError as msg:                        # using another excep block for handle the exception\n",
    "    print(msg)                                   # printing that exception"
   ]
  },
  {
   "cell_type": "markdown",
   "id": "9ce0ecb6",
   "metadata": {},
   "source": [
    "# Question:\n",
    "    Take the list of elements.and get the index of that list of elements."
   ]
  },
  {
   "cell_type": "code",
   "execution_count": 4,
   "id": "e0432f18",
   "metadata": {},
   "outputs": [
    {
     "name": "stdout",
     "output_type": "stream",
     "text": [
      "Index Out of Bound.\n"
     ]
    }
   ],
   "source": [
    "try:                                                  # using try block for catch the errors\n",
    "    even_numbers = [2,4,6,8]                          # taking list with even numebrs\n",
    "    print(even_numbers[5])                            # trying to get the index of the number\n",
    "\n",
    "except ZeroDivisionError:                             # using except block for handle the exception\n",
    "    print(\"Denominator cannot be 0.\")                 # printing that exception\n",
    "    \n",
    "except IndexError:                                     # using another except block for handle the exception\n",
    "    print(\"Index Out of Bound.\")                       # printing that exception"
   ]
  },
  {
   "cell_type": "markdown",
   "id": "18d5e45e",
   "metadata": {},
   "source": [
    "# Question:\n",
    "    Write a  program to test whether an input is an integer."
   ]
  },
  {
   "cell_type": "code",
   "execution_count": 5,
   "id": "a42e57f0",
   "metadata": {},
   "outputs": [
    {
     "name": "stdout",
     "output_type": "stream",
     "text": [
      "valid integer : 15\n",
      "valid integer : 5\n",
      "invalid literal for int() with base 10: '5.65'\n"
     ]
    }
   ],
   "source": [
    "def is_integer(n):                          # usin gthe function\n",
    "    try:                                    # using the try block\n",
    "        n= int(n)                           # assigning a value to a variable\n",
    "        print(\"valid integer :\", n)         # printing a variable\n",
    "    except ValueError as err:               # using except block to handle the exception\n",
    "        print(err)                          # printing that exception\n",
    "        \n",
    "is_integer(15)                              # giving input value\n",
    "is_integer(5.65)  \n",
    "is_integer('5.65')"
   ]
  },
  {
   "cell_type": "markdown",
   "id": "40795965",
   "metadata": {},
   "source": [
    "# Question:\n",
    "           Take one video read and rescale that video."
   ]
  },
  {
   "cell_type": "code",
   "execution_count": 2,
   "id": "db8c5d0e",
   "metadata": {},
   "outputs": [
    {
     "name": "stdout",
     "output_type": "stream",
     "text": [
      "This is finally block\n"
     ]
    }
   ],
   "source": [
    "try:                                                                                     # using try block\n",
    "    import cv2 as cv\n",
    "    capture = cv.VideoCapture(r\"C:\\Users\\Home\\Downloads\\todapur_day_1_short.mp4\")       # capture the video\n",
    "    \n",
    "    while True:                                                                     # using while loop\n",
    "        isTrue,frame = capture.read()                                               # reading video\n",
    "    \n",
    "        def rescaleframe(frame,scale=0.75):                              # take the function for rescale the dimensiion of the video\n",
    "            width = int(frame.shape[1]*scale)                             # rescaling the width of the video\n",
    "            height = int(frame.shape[0]*scale)                            # rescaling the height of the video\n",
    "            dimenssion = (width,height)                                   # dimenssion of the video\n",
    "            return cv.resize(frame,dimenssion,interpolation=cv.INTER_AREA)      # retun the resize frame and dimenssion\n",
    "    \n",
    "        frame_resized = rescaleframe(frame,scale=0.2)                        # calling the function\n",
    "     \n",
    "        cv.imshow('frame',frame)                                          # displaying the normal frame\n",
    "        cv.imshow('frame resized',frame_resized)                          # displaying the resized frame\n",
    "        if cv.waitKey(20) & 0xFF==ord('q'):                               # waikey for video\n",
    "             break\n",
    "    capture.release()                                                     # releasing the capture video\n",
    "    cv.destroyAllWindows()                                                # destroy the all windows\n",
    "except Exception as e:                                                    # except block handle the exceptions\n",
    "    print(e)                                                              # printing the exception\n",
    "finally:                                                                 # finally block\n",
    "    print(\"This is finally block\")                            # exception raised or not,finally block always execute"
   ]
  },
  {
   "cell_type": "code",
   "execution_count": null,
   "id": "5a04f684",
   "metadata": {},
   "outputs": [],
   "source": []
  }
 ],
 "metadata": {
  "kernelspec": {
   "display_name": "Python 3 (ipykernel)",
   "language": "python",
   "name": "python3"
  },
  "language_info": {
   "codemirror_mode": {
    "name": "ipython",
    "version": 3
   },
   "file_extension": ".py",
   "mimetype": "text/x-python",
   "name": "python",
   "nbconvert_exporter": "python",
   "pygments_lexer": "ipython3",
   "version": "3.9.13"
  }
 },
 "nbformat": 4,
 "nbformat_minor": 5
}
