{
 "cells": [
  {
   "cell_type": "markdown",
   "id": "8ea6c094",
   "metadata": {},
   "source": [
    "### Tuple Data Type:\n",
    "    What is Tuple in python:\n",
    "    Tuples are used to store multiple items in a single variable.Tuples are ordered,immutable or unchangable,allows duplicates,indexed,heterogenous(it contains different data types).Tuples are unchangeable, meaning that we cannot change, add or remove items after the tuple has been created.When we say that tuples are ordered, it means that the items have a defined order, and that order will not change.Tuples are indexed,they can have items with the same value.\n",
    "    \n",
    "    Methods in Tuples:\n",
    "    len():This function returns the number of elements present in a tuple.\n",
    "    max():Gives the largest element in the tuple.\n",
    "    min():Gives the smallest element in the tuple.\n",
    "    sum():Gives the sum of the elements present in the tuple.\n",
    "    count():This method finds the number of times an element present in the tuple.\n",
    "    index():The tuple index() method helps us to find the index or occurrence of an element in a tuple.\n",
    "    sorted():This method takes a tuple as an input and returns a sorted list as an output."
   ]
  },
  {
   "cell_type": "code",
   "execution_count": 4,
   "id": "6dfe3075",
   "metadata": {},
   "outputs": [
    {
     "name": "stdout",
     "output_type": "stream",
     "text": [
      "<class 'tuple'>\n"
     ]
    }
   ],
   "source": [
    "# craeting a tuple\n",
    "a = ()\n",
    "print(type(a))"
   ]
  },
  {
   "cell_type": "code",
   "execution_count": 6,
   "id": "3380ccff",
   "metadata": {},
   "outputs": [
    {
     "name": "stdout",
     "output_type": "stream",
     "text": [
      "('myth', 2, True, 5.6)\n"
     ]
    }
   ],
   "source": [
    "# Tuple allows  multiple data types\n",
    "b = (\"myth\",2,True,5.6)\n",
    "print(b)"
   ]
  },
  {
   "cell_type": "code",
   "execution_count": 7,
   "id": "77b185cc",
   "metadata": {},
   "outputs": [
    {
     "name": "stdout",
     "output_type": "stream",
     "text": [
      "4\n"
     ]
    }
   ],
   "source": [
    "# length This function returns the number of elements present in a tuple.\n",
    "c = (\"myth\",2,True,5.6)\n",
    "print(len(c))"
   ]
  },
  {
   "cell_type": "code",
   "execution_count": 11,
   "id": "d8a760fa",
   "metadata": {},
   "outputs": [
    {
     "name": "stdout",
     "output_type": "stream",
     "text": [
      "7\n"
     ]
    }
   ],
   "source": [
    "# max():Gives the largest element in the tuple.In max function it doesnt allow integers with strings.\n",
    "d = (2,6,3,4,7)\n",
    "print(max(d))"
   ]
  },
  {
   "cell_type": "code",
   "execution_count": 12,
   "id": "d6f8b2da",
   "metadata": {},
   "outputs": [
    {
     "name": "stdout",
     "output_type": "stream",
     "text": [
      "2\n"
     ]
    }
   ],
   "source": [
    "# min():Gives the smallest element in the tuple.In min function it doesnt allow integers with strings.\n",
    "e = (2,6,3,4,7)\n",
    "print(min(e))"
   ]
  },
  {
   "cell_type": "code",
   "execution_count": 13,
   "id": "45aa73cc",
   "metadata": {},
   "outputs": [
    {
     "name": "stdout",
     "output_type": "stream",
     "text": [
      "22\n"
     ]
    }
   ],
   "source": [
    "# sum():Gives the sum of the elements present in the tuple.\n",
    "f = (2,6,3,4,7)\n",
    "print(sum(e))"
   ]
  },
  {
   "cell_type": "code",
   "execution_count": 14,
   "id": "03404a13",
   "metadata": {},
   "outputs": [
    {
     "name": "stdout",
     "output_type": "stream",
     "text": [
      "1\n"
     ]
    }
   ],
   "source": [
    "# count():This method finds the number of times an element present in the tuple.\n",
    "g = (2,6,3,4,7)\n",
    "x = g.count(6)\n",
    "print(x)"
   ]
  },
  {
   "cell_type": "code",
   "execution_count": 17,
   "id": "3662cceb",
   "metadata": {},
   "outputs": [
    {
     "name": "stdout",
     "output_type": "stream",
     "text": [
      "3\n",
      "1\n"
     ]
    }
   ],
   "source": [
    "# index():This method helps us to find the index or occurrence of an element in a tuple.\n",
    "h = (2,6,3,4,7)\n",
    "x = h.index(4)\n",
    "print(x)\n",
    "print(h.index(6))"
   ]
  },
  {
   "cell_type": "code",
   "execution_count": 20,
   "id": "42f20a35",
   "metadata": {},
   "outputs": [
    {
     "name": "stdout",
     "output_type": "stream",
     "text": [
      "['love', 'myth', 'pandu', 'swwety']\n",
      "[2, 3, 6, 7, 9, 10, 11]\n"
     ]
    }
   ],
   "source": [
    "# sorted():This method takes a tuple as an input and returns a sorted list as an output.\n",
    "i = (\"myth\",\"pandu\",\"love\",\"swwety\")\n",
    "j = (2,6,3,9,7,11,10)\n",
    "print(sorted(i))\n",
    "print(sorted(j))"
   ]
  },
  {
   "cell_type": "code",
   "execution_count": 22,
   "id": "e9a22666",
   "metadata": {},
   "outputs": [
    {
     "name": "stdout",
     "output_type": "stream",
     "text": [
      "<class 'list'>\n",
      "<class 'tuple'>\n"
     ]
    }
   ],
   "source": [
    "# converting list into tuple\n",
    "j = [2,6,3,9,7,11,10]\n",
    "k = tuple([2,6,3,9,7,11,10])\n",
    "print(type(j))\n",
    "print(type(k))"
   ]
  },
  {
   "cell_type": "code",
   "execution_count": null,
   "id": "e0e83464",
   "metadata": {},
   "outputs": [],
   "source": []
  }
 ],
 "metadata": {
  "kernelspec": {
   "display_name": "Python 3 (ipykernel)",
   "language": "python",
   "name": "python3"
  },
  "language_info": {
   "codemirror_mode": {
    "name": "ipython",
    "version": 3
   },
   "file_extension": ".py",
   "mimetype": "text/x-python",
   "name": "python",
   "nbconvert_exporter": "python",
   "pygments_lexer": "ipython3",
   "version": "3.9.13"
  }
 },
 "nbformat": 4,
 "nbformat_minor": 5
}
