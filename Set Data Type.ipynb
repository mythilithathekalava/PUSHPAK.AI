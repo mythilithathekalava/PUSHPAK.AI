{
 "cells": [
  {
   "cell_type": "markdown",
   "id": "30f8cc75",
   "metadata": {},
   "source": [
    "### Set Data Type:\n",
    "    What is Set in Python:\n",
    "    Set is used to store collections of data.A set is a collection which is unordered,unchangeable,and unindexed.\n",
    "    Unordered means that the items in a set do not have a defined order.Set items are unchangeable, meaning that we cannot change the items after the set has been created.Once a set is created, you cannot change its items, but you can remove items and add new items.Sets cannot have two items with the same value.\n",
    "    \n",
    "    Methods in set:\n",
    "    add():Adds an element to the set.\n",
    "    clear():Removes all the elements from the set\n",
    "    copy():Returns a copy of the set.\n",
    "    difference():Returns a set containing the difference between two or more sets.\n",
    "    difference_update():Removes the items in this set that are also included in another.\n",
    "    discard():Remove the specified item.\n",
    "    intersection():Returns a set, that is the intersection of two or more sets.\n",
    "    intersection_update(): Removes the items in this set that are not present in other.\n",
    "    isdisjoint():Returns whether two sets have a intersection or not.\n",
    "    issubset():Returns whether another set contains this set or not.\n",
    "    issuperset():Returns whether this set contains another set or not.\n",
    "    pop():Removes an element from the set.\n",
    "    remove():Removes the specified element.\n",
    "    symmetric_difference():Returns a set with the symmetric differences of two sets.\n",
    "    symmetric_difference_update():inserts the symmetric differences from this set and another.\n",
    "    union():Return a set containing the union of sets.\n",
    "    update():Update the set with another set, or any other iterable."
   ]
  },
  {
   "cell_type": "code",
   "execution_count": 5,
   "id": "6d821071",
   "metadata": {},
   "outputs": [
    {
     "name": "stdout",
     "output_type": "stream",
     "text": [
      "<class 'set'>\n"
     ]
    }
   ],
   "source": [
    "a = set()\n",
    "print(type(a))"
   ]
  },
  {
   "cell_type": "code",
   "execution_count": 8,
   "id": "03396b3d",
   "metadata": {},
   "outputs": [
    {
     "name": "stdout",
     "output_type": "stream",
     "text": [
      "{'cherry', 'banana'}\n",
      "{'microsoft', 'google'}\n"
     ]
    }
   ],
   "source": [
    "# difference method Returns a set that contains the items that only exist in set x, and not in set y\n",
    "x = {\"apple\", \"banana\", \"cherry\"}\n",
    "y = {\"google\", \"microsoft\", \"apple\"}\n",
    "\n",
    "z = x.difference(y)\n",
    "L = y.difference(x)\n",
    "print(z)\n",
    "print(L)"
   ]
  },
  {
   "cell_type": "code",
   "execution_count": 30,
   "id": "74be5416",
   "metadata": {},
   "outputs": [
    {
     "name": "stdout",
     "output_type": "stream",
     "text": [
      "Difference using &: {3, 5}\n",
      "Difference using difference(): {3, 5}\n"
     ]
    }
   ],
   "source": [
    "A = {2, 3, 5}\n",
    "B = {1, 2, 6}\n",
    "\n",
    "# perform difference operation using &\n",
    "print('Difference using &:', A - B)\n",
    "\n",
    "# perform difference operation using difference()\n",
    "print('Difference using difference():', A.difference(B)) "
   ]
  },
  {
   "cell_type": "code",
   "execution_count": 9,
   "id": "3f29aed7",
   "metadata": {},
   "outputs": [
    {
     "name": "stdout",
     "output_type": "stream",
     "text": [
      "{'cherry', 'water melon', 'banana', 'apple'}\n"
     ]
    }
   ],
   "source": [
    "# Add method adds an element to the set.\n",
    "# If the element already exists, the add() method does not add the element.\n",
    "fruits = {\"apple\", \"banana\", \"cherry\"}\n",
    "fruits.add(\"water melon\")\n",
    "print(fruits)"
   ]
  },
  {
   "cell_type": "code",
   "execution_count": 11,
   "id": "8e575c68",
   "metadata": {},
   "outputs": [
    {
     "name": "stdout",
     "output_type": "stream",
     "text": [
      "None\n"
     ]
    }
   ],
   "source": [
    "# clear method Removes all the elements from the set\n",
    "fruits = {'cherry', 'water melon', 'banana', 'apple'}\n",
    "x = fruits.clear()\n",
    "print(x)"
   ]
  },
  {
   "cell_type": "code",
   "execution_count": 19,
   "id": "68d20784",
   "metadata": {},
   "outputs": [
    {
     "name": "stdout",
     "output_type": "stream",
     "text": [
      "{'banana'}\n",
      "{'cherry', 'microsoft', 'apple', 'google'}\n"
     ]
    }
   ],
   "source": [
    "# difference_update Removes the items in this set that are also included in another, specified set.\n",
    "# Remove the items that exist in both sets\n",
    "x = {\"apple\", \"banana\", \"cherry\"}\n",
    "y = {\"google\", \"microsoft\", \"apple\",\"cherry\"}\n",
    "x.difference_update(y)\n",
    "print(x)"
   ]
  },
  {
   "cell_type": "code",
   "execution_count": 21,
   "id": "482cdde5",
   "metadata": {},
   "outputs": [
    {
     "name": "stdout",
     "output_type": "stream",
     "text": [
      "{'microsoft', 'google'}\n"
     ]
    }
   ],
   "source": [
    "x = {\"apple\", \"banana\", \"cherry\"}\n",
    "y = {\"google\", \"microsoft\", \"apple\",\"cherry\"}\n",
    "y.difference_update(x)\n",
    "print(y)"
   ]
  },
  {
   "cell_type": "code",
   "execution_count": 24,
   "id": "73c87179",
   "metadata": {},
   "outputs": [
    {
     "name": "stdout",
     "output_type": "stream",
     "text": [
      "{'cherry', 'microsoft', 'google'}\n"
     ]
    }
   ],
   "source": [
    "# discard():Remove the specified item.\n",
    "# This method is different from the remove() method, because the remove() method\n",
    "# will raise an error if the specified item does not exist, and the discard() method will not.\n",
    "x = {\"google\", \"microsoft\", \"apple\",\"cherry\"}\n",
    "x.discard(\"apple\")\n",
    "print(x)"
   ]
  },
  {
   "cell_type": "code",
   "execution_count": 25,
   "id": "18a5dc3e",
   "metadata": {},
   "outputs": [
    {
     "name": "stdout",
     "output_type": "stream",
     "text": [
      "Intersection using &: {1, 3}\n",
      "Intersection using intersection(): {1, 3}\n"
     ]
    }
   ],
   "source": [
    "# intersection methods Returns a set, that is the intersection of two or more sets.\n",
    "A = {1, 3, 5}\n",
    "B = {1, 2, 3}\n",
    "\n",
    "# perform intersection operation using &\n",
    "print('Intersection using &:', A & B)\n",
    "\n",
    "# perform intersection operation using intersection()\n",
    "print('Intersection using intersection():', A.intersection(B)) \n"
   ]
  },
  {
   "cell_type": "code",
   "execution_count": 26,
   "id": "bd35a9de",
   "metadata": {},
   "outputs": [
    {
     "name": "stdout",
     "output_type": "stream",
     "text": [
      "{'c'}\n"
     ]
    }
   ],
   "source": [
    "# The intersection_update() method removes the items that is not present in both sets\n",
    "x = {\"a\", \"b\", \"c\"}\n",
    "y = {\"c\", \"d\", \"e\"}\n",
    "z = {\"f\", \"g\", \"c\"}\n",
    "x.intersection_update(y, z)\n",
    "print(x)"
   ]
  },
  {
   "cell_type": "code",
   "execution_count": 27,
   "id": "6b0d817a",
   "metadata": {},
   "outputs": [
    {
     "name": "stdout",
     "output_type": "stream",
     "text": [
      "{'apple'}\n"
     ]
    }
   ],
   "source": [
    "x = {\"apple\", \"banana\", \"cherry\"}\n",
    "y = {\"google\", \"microsoft\", \"apple\"}\n",
    "x.intersection_update(y)\n",
    "print(x)"
   ]
  },
  {
   "cell_type": "code",
   "execution_count": 28,
   "id": "cdf32d25",
   "metadata": {},
   "outputs": [
    {
     "name": "stdout",
     "output_type": "stream",
     "text": [
      "{'cherry', 'microsoft', 'apple', 'banana', 'google'}\n"
     ]
    }
   ],
   "source": [
    "# union method Return a set containing the union of sets.\n",
    "x = {\"apple\", \"banana\", \"cherry\"}\n",
    "y = {\"google\", \"microsoft\", \"apple\"}\n",
    "z = x.union(y)\n",
    "print(z)"
   ]
  },
  {
   "cell_type": "code",
   "execution_count": 29,
   "id": "559365a4",
   "metadata": {},
   "outputs": [
    {
     "name": "stdout",
     "output_type": "stream",
     "text": [
      "Union using |: {0, 1, 2, 3, 4, 5}\n",
      "Union using union(): {0, 1, 2, 3, 4, 5}\n"
     ]
    }
   ],
   "source": [
    "A = {1, 3, 5}\n",
    "B = {0, 2, 4}\n",
    "\n",
    "# perform union operation using |\n",
    "print('Union using |:', A | B)\n",
    "\n",
    "# perform union operation using union()\n",
    "print('Union using union():', A.union(B)) "
   ]
  },
  {
   "cell_type": "code",
   "execution_count": 31,
   "id": "0176fe95",
   "metadata": {},
   "outputs": [
    {
     "name": "stdout",
     "output_type": "stream",
     "text": [
      "True\n"
     ]
    }
   ],
   "source": [
    "# isdisjoint() method returns True if none of the items are present in both sets, otherwise it returns False.\n",
    "x = {\"apple\", \"banana\", \"cherry\"}\n",
    "y = {\"google\", \"microsoft\", \"facebook\"}\n",
    "\n",
    "z = x.isdisjoint(y) \n",
    "\n",
    "print(z)"
   ]
  },
  {
   "cell_type": "code",
   "execution_count": 32,
   "id": "7b8ccbb6",
   "metadata": {},
   "outputs": [
    {
     "name": "stdout",
     "output_type": "stream",
     "text": [
      "True\n",
      "False\n",
      "True\n"
     ]
    }
   ],
   "source": [
    "# issuperset():Returns whether this set contains another set or not.\n",
    "A = {1, 2, 3, 4, 5}\n",
    "B = {1, 2, 3}\n",
    "C = {1, 2, 3}\n",
    "\n",
    "# Returns True\n",
    "print(A.issuperset(B))\n",
    "\n",
    "# Returns False\n",
    "print(B.issuperset(A))\n",
    "\n",
    "# Returns True\n",
    "print(C.issuperset(B))"
   ]
  },
  {
   "cell_type": "code",
   "execution_count": 33,
   "id": "5f170739",
   "metadata": {},
   "outputs": [
    {
     "name": "stdout",
     "output_type": "stream",
     "text": [
      "A is subset of B: True\n",
      "B is subset of A: False\n"
     ]
    }
   ],
   "source": [
    "# issubset Returns whether another set contains this set or not.\n",
    "A = {'a', 'c', 'e'}\n",
    "B = {'a', 'b', 'c', 'd', 'e'}\n",
    "\n",
    "print('A is subset of B:', A.issubset(B))\n",
    "print('B is subset of A:', B.issubset(A))"
   ]
  },
  {
   "cell_type": "code",
   "execution_count": 34,
   "id": "26eae548",
   "metadata": {},
   "outputs": [
    {
     "name": "stdout",
     "output_type": "stream",
     "text": [
      "{'apple', 'google'}\n"
     ]
    }
   ],
   "source": [
    "# pop Removes an element from the set.\n",
    "x = {\"google\", \"microsoft\", \"apple\"}\n",
    "x.pop()\n",
    "print(x)"
   ]
  },
  {
   "cell_type": "code",
   "execution_count": 35,
   "id": "50fd5625",
   "metadata": {},
   "outputs": [
    {
     "name": "stdout",
     "output_type": "stream",
     "text": [
      "{'microsoft', 'google'}\n"
     ]
    }
   ],
   "source": [
    "# remove():Removes the specified element.\n",
    "x = {\"google\", \"microsoft\", \"apple\"}\n",
    "x.remove('apple')\n",
    "print(x)"
   ]
  },
  {
   "cell_type": "code",
   "execution_count": 36,
   "id": "6b496190",
   "metadata": {},
   "outputs": [
    {
     "name": "stdout",
     "output_type": "stream",
     "text": [
      "{'cherry', 'microsoft', 'apple', 'banana', 'google'}\n"
     ]
    }
   ],
   "source": [
    "# The update() method updates the current set, by adding items from another set\n",
    "x = {\"apple\", \"banana\", \"cherry\"}\n",
    "y = {\"google\", \"microsoft\", \"apple\"}\n",
    "\n",
    "x.update(y) \n",
    "print(x)"
   ]
  },
  {
   "cell_type": "code",
   "execution_count": 37,
   "id": "cdd0ac10",
   "metadata": {},
   "outputs": [
    {
     "name": "stdout",
     "output_type": "stream",
     "text": [
      "{'cherry', 'google', 'microsoft', 'banana'}\n"
     ]
    }
   ],
   "source": [
    "# The symmetric_difference() method returns a set that contains all items from both set, \n",
    "# but not the items that are present in both sets.\n",
    "x = {\"apple\", \"banana\", \"cherry\"}\n",
    "y = {\"google\", \"microsoft\", \"apple\"}\n",
    "\n",
    "z = x.symmetric_difference(y)\n",
    "print(z)\n"
   ]
  },
  {
   "cell_type": "code",
   "execution_count": 38,
   "id": "4bf631c1",
   "metadata": {},
   "outputs": [
    {
     "name": "stdout",
     "output_type": "stream",
     "text": [
      "{'b', 'e', 'a'}\n"
     ]
    }
   ],
   "source": [
    "A = {'a', 'b', 'c', 'd'}\n",
    "B = {'c', 'd', 'e' }\n",
    "\n",
    "# returns all items to result variable except the items on intersection\n",
    "result = A.symmetric_difference(B)\n",
    "print(result)"
   ]
  },
  {
   "cell_type": "code",
   "execution_count": 42,
   "id": "eb82e622",
   "metadata": {},
   "outputs": [
    {
     "name": "stdout",
     "output_type": "stream",
     "text": [
      "{'kiwi', 'google', 'microsoft', 'banana'}\n"
     ]
    }
   ],
   "source": [
    "# Removes the items that are present in both sets, AND insert the items that is not present in both sets\n",
    "x = {\"apple\", \"banana\", \"cherry\",\"kiwi\"}\n",
    "y = {\"google\", \"microsoft\", \"apple\",\"cherry\"}\n",
    "\n",
    "x.symmetric_difference_update(y)\n",
    "print(x)"
   ]
  },
  {
   "cell_type": "code",
   "execution_count": null,
   "id": "66d2f72b",
   "metadata": {},
   "outputs": [],
   "source": []
  }
 ],
 "metadata": {
  "kernelspec": {
   "display_name": "Python 3 (ipykernel)",
   "language": "python",
   "name": "python3"
  },
  "language_info": {
   "codemirror_mode": {
    "name": "ipython",
    "version": 3
   },
   "file_extension": ".py",
   "mimetype": "text/x-python",
   "name": "python",
   "nbconvert_exporter": "python",
   "pygments_lexer": "ipython3",
   "version": "3.9.13"
  }
 },
 "nbformat": 4,
 "nbformat_minor": 5
}
