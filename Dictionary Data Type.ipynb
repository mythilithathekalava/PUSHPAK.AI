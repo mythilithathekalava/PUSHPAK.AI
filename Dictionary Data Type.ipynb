{
 "cells": [
  {
   "cell_type": "markdown",
   "id": "a0d03a29",
   "metadata": {},
   "source": [
    "# Dictionary\n",
    "    What is Dictionary:\n",
    "    Dictionaries are used to store data values in key:value pairs.A dictionary is a collection which is ordered*,         changeable and does not allow duplicates.\n",
    "    Dictionaries are changeable, meaning that we can change, add or remove items after the dictionary has been created.When we say that dictionaries are ordered, it means that the items have a defined order, and that order will not change.Dictionaries cannot have two items with the same key.\n",
    "    \n",
    "    Methods in Dictionaries:\n",
    "    clear():Removes all the elements from the dictionary.\n",
    "    copy():Returns a copy of the dictionary.\n",
    "    fromkeys():Returns a dictionary with the specified keys and value.\n",
    "    get():Returns the value of the specified key.\n",
    "    items():Returns a list containing a tuple for each key value pair.\n",
    "    keys():Returns a list containing the dictionary's keys.\n",
    "    pop():Removes the element with the specified key.\n",
    "    popitem():Removes the last inserted key-value pair.\n",
    "    setdefault():Returns the value of the specified key. If the key does not exist: insert the key, with the specified value.\n",
    "    update():Updates the dictionary with the specified key-value pairs.\n",
    "    values():Returns a list of all the values in the dictionary."
   ]
  },
  {
   "cell_type": "code",
   "execution_count": 2,
   "id": "26d1f9a3",
   "metadata": {},
   "outputs": [
    {
     "name": "stdout",
     "output_type": "stream",
     "text": [
      "<class 'dict'>\n"
     ]
    }
   ],
   "source": [
    "# creating dictionary\n",
    "a = {}\n",
    "print(type(a))"
   ]
  },
  {
   "cell_type": "code",
   "execution_count": 3,
   "id": "757bebef",
   "metadata": {},
   "outputs": [
    {
     "name": "stdout",
     "output_type": "stream",
     "text": [
      "dict_items([('name', 'mythili'), ('age', 24), ('education', 'mca')])\n"
     ]
    }
   ],
   "source": [
    "# items():Returns a list containing a tuple for each key value pair.\n",
    "b = {\"name\":\"mythili\",\"age\":24,\"education\":\"mca\"} \n",
    "print(b.items())"
   ]
  },
  {
   "cell_type": "code",
   "execution_count": 4,
   "id": "b74b87d8",
   "metadata": {},
   "outputs": [
    {
     "name": "stdout",
     "output_type": "stream",
     "text": [
      "dict_keys(['name', 'age', 'education'])\n"
     ]
    }
   ],
   "source": [
    "# keys():Returns a list containing the dictionary's keys.\n",
    "c = {\"name\":\"mythili\",\"age\":24,\"education\":\"mca\"} \n",
    "print(c.keys())"
   ]
  },
  {
   "cell_type": "code",
   "execution_count": 5,
   "id": "2d92987e",
   "metadata": {},
   "outputs": [
    {
     "name": "stdout",
     "output_type": "stream",
     "text": [
      "dict_values(['mythili', 24, 'mca'])\n"
     ]
    }
   ],
   "source": [
    "# values():Returns a list of all the values in the dictionary.\n",
    "d = {\"name\":\"mythili\",\"age\":24,\"education\":\"mca\"} \n",
    "print(d.values())"
   ]
  },
  {
   "cell_type": "code",
   "execution_count": 6,
   "id": "a3ddb424",
   "metadata": {},
   "outputs": [
    {
     "name": "stdout",
     "output_type": "stream",
     "text": [
      "{'name': 'mythili', 'age': 24, 'education': 'mca', 'hooby': 'volleyball'}\n"
     ]
    }
   ],
   "source": [
    "# update():Updates the dictionary with the specified key-value pairs.\n",
    "d = {\"name\":\"mythili\",\"age\":24,\"education\":\"mca\"} \n",
    "d.update({\"hooby\":\"volleyball\"})\n",
    "print(d)"
   ]
  },
  {
   "cell_type": "code",
   "execution_count": 9,
   "id": "f0469eff",
   "metadata": {},
   "outputs": [
    {
     "name": "stdout",
     "output_type": "stream",
     "text": [
      "mythili\n",
      "5\n"
     ]
    }
   ],
   "source": [
    "# get():Returns the value of the specified key.\n",
    "e = {'name': 'mythili', 'age': 24, 'education': 'mca', 'hooby': 'volleyball'}\n",
    "x = e.get('name')\n",
    "print(x)\n",
    "y = e.get(\"rollno\",5)\n",
    "print(y)"
   ]
  },
  {
   "cell_type": "code",
   "execution_count": 10,
   "id": "a6d75d49",
   "metadata": {},
   "outputs": [
    {
     "name": "stdout",
     "output_type": "stream",
     "text": [
      "{'name': 'mythili', 'age': 24, 'education': 'mca'}\n"
     ]
    }
   ],
   "source": [
    "# copy():Returns a copy of the dictionary.\n",
    "d = {\"name\":\"mythili\",\"age\":24,\"education\":\"mca\"} \n",
    "x = d.copy()\n",
    "print(x)"
   ]
  },
  {
   "cell_type": "code",
   "execution_count": 12,
   "id": "f512efd6",
   "metadata": {},
   "outputs": [
    {
     "name": "stdout",
     "output_type": "stream",
     "text": [
      "('hobby', 'volleyball')\n"
     ]
    }
   ],
   "source": [
    "# popitem():Removes the last inserted key-value pair.\n",
    "e = {'name': 'mythili', 'age': 24, 'education': 'mca', 'hobby': 'volleyball'}\n",
    "x = e.popitem()\n",
    "print(x)"
   ]
  },
  {
   "cell_type": "code",
   "execution_count": 14,
   "id": "e87d3a26",
   "metadata": {},
   "outputs": [
    {
     "name": "stdout",
     "output_type": "stream",
     "text": [
      "volleyball\n",
      "{'name': 'mythili', 'age': 24, 'education': 'mca'}\n"
     ]
    }
   ],
   "source": [
    "# pop():Removes the element with the specified key.\n",
    "e = {'name': 'mythili', 'age': 24, 'education': 'mca', 'hobby': 'volleyball'}\n",
    "print(e.pop(\"hobby\"))\n",
    "print(e)"
   ]
  },
  {
   "cell_type": "code",
   "execution_count": 15,
   "id": "3a291fff",
   "metadata": {},
   "outputs": [
    {
     "name": "stdout",
     "output_type": "stream",
     "text": [
      "{}\n"
     ]
    }
   ],
   "source": [
    "# clear():Removes all the elements from the dictionary.\n",
    "d = {\"name\":\"mythili\",\"age\":24,\"education\":\"mca\"} \n",
    "d.clear()\n",
    "print(d)"
   ]
  },
  {
   "cell_type": "code",
   "execution_count": 20,
   "id": "5af77240",
   "metadata": {},
   "outputs": [
    {
     "name": "stdout",
     "output_type": "stream",
     "text": [
      "{'key3': 'mythili', 'key2': 'mythili', 'key1': 'mythili'}\n"
     ]
    }
   ],
   "source": [
    "# fromkeys():Returns a dictionary with the specified keys and value.\n",
    "x = {\"key1\",\"key2\",\"key3\"}\n",
    "y = \"mythili\"\n",
    "x = dict.fromkeys(x,y)\n",
    "print(x)"
   ]
  },
  {
   "cell_type": "code",
   "execution_count": 16,
   "id": "335fc2e8",
   "metadata": {},
   "outputs": [
    {
     "name": "stdout",
     "output_type": "stream",
     "text": [
      "{'name': 'mythili', 'age': 24, 'education': 'mca'}\n",
      "{'name': 'lavanya', 'age': 24, 'education': 'mca'}\n",
      "24\n",
      "3\n",
      "<class 'dict'>\n"
     ]
    }
   ],
   "source": [
    "dict = {\"name\":\"mythili\",\"age\":24,\"education\":\"mca\"}    # creating a dictionary\n",
    "print(dict)\n",
    "dict[\"name\"] = \"lavanya\"  # here updating the key value\n",
    "print(dict)\n",
    "print(dict[\"age\"])\n",
    "print(len(dict))\n",
    "print(type(dict))"
   ]
  },
  {
   "cell_type": "code",
   "execution_count": 14,
   "id": "08374f2a",
   "metadata": {},
   "outputs": [
    {
     "name": "stdout",
     "output_type": "stream",
     "text": [
      "dict_keys(['name', 'age', 'education'])\n",
      "dict_values(['lavanya', 24, 'mca'])\n",
      "dict_items([('name', 'lavanya'), ('age', 24), ('education', 'mca')])\n"
     ]
    }
   ],
   "source": [
    "# accessing the dictionary \n",
    "print(dict.keys())           # Displaying all keys\n",
    "print(dict.values())         # displaying all values\n",
    "print(dict.items())          # displaying  key and value pair"
   ]
  },
  {
   "cell_type": "code",
   "execution_count": 18,
   "id": "6c16052c",
   "metadata": {},
   "outputs": [
    {
     "name": "stdout",
     "output_type": "stream",
     "text": [
      "yes,name is there in dict\n"
     ]
    }
   ],
   "source": [
    "if \"name\" in dict:\n",
    "    print(\"yes,name is there in dict\")"
   ]
  },
  {
   "cell_type": "code",
   "execution_count": 20,
   "id": "128ca50b",
   "metadata": {},
   "outputs": [
    {
     "name": "stdout",
     "output_type": "stream",
     "text": [
      "{'name': 'lavanya', 'age': 25, 'education': 'mca'}\n",
      "{'name': 'lavanya', 'age': 26, 'education': 'mca'}\n"
     ]
    }
   ],
   "source": [
    "dict.update({\"age\":25})\n",
    "print(dict)\n",
    "dict[\"age\"]=26\n",
    "print(dict)"
   ]
  },
  {
   "cell_type": "code",
   "execution_count": 21,
   "id": "c860eee1",
   "metadata": {},
   "outputs": [
    {
     "name": "stdout",
     "output_type": "stream",
     "text": [
      "{'name': 'lavanya', 'age': 26, 'education': 'mca', 'hobby': 'music'}\n"
     ]
    }
   ],
   "source": [
    "dict.update({\"hobby\":\"music\"})\n",
    "print(dict)"
   ]
  },
  {
   "cell_type": "code",
   "execution_count": 26,
   "id": "b2e3093d",
   "metadata": {},
   "outputs": [
    {
     "name": "stdout",
     "output_type": "stream",
     "text": [
      "{'name': 'lavanya', 'age': 26, 'education': 'mca', 'hobby': 'music', 'id': []}\n"
     ]
    }
   ],
   "source": [
    "dict.update({\"id\":[]})\n",
    "print(dict)"
   ]
  },
  {
   "cell_type": "code",
   "execution_count": 27,
   "id": "0fa3cb36",
   "metadata": {},
   "outputs": [
    {
     "name": "stdout",
     "output_type": "stream",
     "text": [
      "name\n",
      "age\n",
      "education\n",
      "hobby\n",
      "id\n"
     ]
    }
   ],
   "source": [
    "for x in dict.keys():\n",
    "    print(x)"
   ]
  },
  {
   "cell_type": "code",
   "execution_count": 29,
   "id": "ca4bef7a",
   "metadata": {},
   "outputs": [
    {
     "name": "stdout",
     "output_type": "stream",
     "text": [
      "lavanya\n",
      "26\n",
      "mca\n",
      "music\n",
      "[]\n"
     ]
    }
   ],
   "source": [
    "for x in dict.values():\n",
    "    print(x)"
   ]
  },
  {
   "cell_type": "code",
   "execution_count": 32,
   "id": "ded623f8",
   "metadata": {},
   "outputs": [
    {
     "name": "stdout",
     "output_type": "stream",
     "text": [
      "('name', 'lavanya')\n",
      "('age', 26)\n",
      "('education', 'mca')\n",
      "('hobby', 'music')\n",
      "('id', [])\n"
     ]
    }
   ],
   "source": [
    "for x in dict.items():\n",
    "    print(x)"
   ]
  },
  {
   "cell_type": "code",
   "execution_count": 33,
   "id": "7f616e21",
   "metadata": {},
   "outputs": [
    {
     "name": "stdout",
     "output_type": "stream",
     "text": [
      "{'name': 'lavanya', 'age': 26, 'education': 'mca', 'hobby': 'music', 'id': []}\n"
     ]
    }
   ],
   "source": [
    "x = dict.copy()\n",
    "print(x)"
   ]
  },
  {
   "cell_type": "code",
   "execution_count": 36,
   "id": "3eefc251",
   "metadata": {},
   "outputs": [
    {
     "name": "stdout",
     "output_type": "stream",
     "text": [
      "{'child_1': {'name': 'mythili', 'age': 25, 'hobby': 'volleyball'}, 'child_2': {'name': 'sweety', 'age': 6, 'hobby': 'playing'}, 'child_3': {'name': 'pandu', 'age': 8, 'hobby': 'watching tv'}}\n"
     ]
    }
   ],
   "source": [
    "myth = {\"child_1\":{\"name\":\"mythili\",\"age\":25,\"hobby\":\"volleyball\"},      # Nested dictionary\n",
    "        \"child_2\":{\"name\":\"sweety\",\"age\":6,\"hobby\":\"playing\"},\n",
    "        \"child_3\":{\"name\":\"pandu\",\"age\":8,\"hobby\":\"watching tv\"}}\n",
    "print(myth)"
   ]
  },
  {
   "cell_type": "code",
   "execution_count": 37,
   "id": "3404b3de",
   "metadata": {},
   "outputs": [
    {
     "name": "stdout",
     "output_type": "stream",
     "text": [
      "sweety\n"
     ]
    }
   ],
   "source": [
    "print(myth[\"child_2\"][\"name\"])   # access items in nested dictionaries"
   ]
  },
  {
   "cell_type": "markdown",
   "id": "e8f59c3e",
   "metadata": {},
   "source": [
    "### Convert two lists into a dictionary¶ "
   ]
  },
  {
   "cell_type": "code",
   "execution_count": 1,
   "id": "ba6ba51d",
   "metadata": {},
   "outputs": [
    {
     "name": "stdout",
     "output_type": "stream",
     "text": [
      "{'Ten': 10, 'Twenty': 20, 'Thirty': 30}\n"
     ]
    }
   ],
   "source": [
    "keys = ['Ten', 'Twenty', 'Thirty']\n",
    "values = [10, 20, 30]\n",
    "res_dict = dict(zip(keys,values))\n",
    "print(res_dict)"
   ]
  },
  {
   "cell_type": "markdown",
   "id": "92cd819a",
   "metadata": {},
   "source": [
    "### Merge two Python dictionaries into one"
   ]
  },
  {
   "cell_type": "code",
   "execution_count": 21,
   "id": "e7adb004",
   "metadata": {},
   "outputs": [
    {
     "name": "stdout",
     "output_type": "stream",
     "text": [
      "{'Ten': 10, 'Twenty': 20, 'Thirty': 30, 'Fourty': 40, 'Fifty': 50}\n"
     ]
    }
   ],
   "source": [
    "dict1 = {'Ten': 10, 'Twenty': 20, 'Thirty': 30}\n",
    "dict2 = {'Thirty': 30, 'Fourty': 40, 'Fifty': 50}\n",
    "dict3 = {**dict1,**dict2}\n",
    "print(dict3)"
   ]
  },
  {
   "cell_type": "code",
   "execution_count": 22,
   "id": "ceac6e6e",
   "metadata": {},
   "outputs": [
    {
     "name": "stdout",
     "output_type": "stream",
     "text": [
      "{'Ten': 10, 'Twenty': 20, 'Thirty': 30, 'Fourty': 40, 'Fifty': 50}\n"
     ]
    }
   ],
   "source": [
    "dict1 = {'Ten': 10, 'Twenty': 20, 'Thirty': 30}\n",
    "dict2 = {'Thirty': 30, 'Fourty': 40, 'Fifty': 50}\n",
    "dict3 = dict1.copy()\n",
    "dict3.update(dict2)\n",
    "print(dict3)"
   ]
  },
  {
   "cell_type": "code",
   "execution_count": null,
   "id": "f06842da",
   "metadata": {},
   "outputs": [],
   "source": []
  }
 ],
 "metadata": {
  "kernelspec": {
   "display_name": "Python 3 (ipykernel)",
   "language": "python",
   "name": "python3"
  },
  "language_info": {
   "codemirror_mode": {
    "name": "ipython",
    "version": 3
   },
   "file_extension": ".py",
   "mimetype": "text/x-python",
   "name": "python",
   "nbconvert_exporter": "python",
   "pygments_lexer": "ipython3",
   "version": "3.9.13"
  }
 },
 "nbformat": 4,
 "nbformat_minor": 5
}
